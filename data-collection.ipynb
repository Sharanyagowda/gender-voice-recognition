{
 "cells": [
  {
   "cell_type": "markdown",
   "metadata": {},
   "source": [
    "# Data collection"
   ]
  },
  {
   "cell_type": "markdown",
   "metadata": {},
   "source": [
    "Since other projects don't have a public dataset and they give you just the processed data as features of the ML model, I decided to build a dataset by myself. The dataset is in the `dataset/` folder and it's split into two subfolders:\n",
    "* `dataset/men/` for male voices;\n",
    "* `dataset/women/` for women voices."
   ]
  },
  {
   "cell_type": "code",
   "execution_count": 1,
   "metadata": {},
   "outputs": [],
   "source": [
    "import os \n",
    "\n",
    "dataset_dir = 'dataset'\n",
    "men_dir = os.path.join(dataset_dir, 'men')\n",
    "women_dir = os.path.join(dataset_dir, 'women')"
   ]
  },
  {
   "cell_type": "markdown",
   "metadata": {},
   "source": [
    "Before going into details, let's import some modules:"
   ]
  },
  {
   "cell_type": "code",
   "execution_count": 3,
   "metadata": {},
   "outputs": [],
   "source": [
    "import sounddevice as sd\n",
    "import numpy as np\n",
    "import uuid\n",
    "import matplotlib.pyplot as plt"
   ]
  },
  {
   "cell_type": "markdown",
   "metadata": {},
   "source": [
    "## [Model assumptions](#model-assumptions)\n",
    "Each sample is composed by a one-second recording of someone talking. I decided to have a one-second window because it's sufficiently long to be labelled/classified by a human but short enough to be analyzed without worrying too much about noise.\n",
    "\n",
    "We assume that the bandwidth is less than 4khz ([1], [2]) and therefore the sample rate is set to 8 kHz (see the [Sampling Theorem](https://en.wikipedia.org/wiki/Nyquist%E2%80%93Shannon_sampling_theorem)).\n",
    "\n",
    "1. https://en.wikipedia.org/wiki/Digital_Signal_0\n",
    "2. https://en.wikipedia.org/wiki/G.711"
   ]
  },
  {
   "cell_type": "code",
   "execution_count": 5,
   "metadata": {},
   "outputs": [],
   "source": [
    "audio_duration = 1.0\n",
    "sd.default.samplerate = 8000\n",
    "sd.default.channels = 1\n",
    "sd.default.dtype = 'float32'\n",
    "\n",
    "time = np.linspace(0, audio_duration, int(audio_duration * sd.default.samplerate))"
   ]
  },
  {
   "cell_type": "markdown",
   "metadata": {},
   "source": [
    "Recordings have to be done in a controlled environment, in order to keep the SNR as small as possible. The only noise allowed is assumed as Gaussian noise. Also, the audio recorded can't be empty for the vast majority of the time. No overlapping voices are allowed."
   ]
  },
  {
   "cell_type": "markdown",
   "metadata": {},
   "source": [
    "## Recording"
   ]
  },
  {
   "cell_type": "code",
   "execution_count": 38,
   "metadata": {},
   "outputs": [
    {
     "name": "stdout",
     "output_type": "stream",
     "text": [
      "Recorded.\n"
     ]
    }
   ],
   "source": [
    "voice = sd.rec(int(audio_duration * sd.default.samplerate), blocking='True')\n",
    "fvoice = scipy.signal.medfilt(voice.flatten()) # Filtering the noise\n",
    "print('Recorded.')"
   ]
  },
  {
   "cell_type": "markdown",
   "metadata": {},
   "source": [
    "Before saving it, listen to it to make sure the recording meet the [requirements](#model-assumptions):"
   ]
  },
  {
   "cell_type": "code",
   "execution_count": 39,
   "metadata": {},
   "outputs": [
    {
     "data": {
      "image/png": "[encoded data removed]",
      "text/plain": [
       "<Figure size 432x288 with 1 Axes>"
      ]
     },
     "metadata": {
      "needs_background": "light"
     },
     "output_type": "display_data"
    }
   ],
   "source": [
    "plt.plot(fvoice)\n",
    "plt.xlabel('Time (ms)')\n",
    "plt.ylabel('Intensity')\n",
    "plt.show()\n",
    "\n",
    "sd.play(fvoice)"
   ]
  },
  {
   "cell_type": "code",
   "execution_count": 32,
   "metadata": {},
   "outputs": [
    {
     "name": "stdout",
     "output_type": "stream",
     "text": [
      "Is it a man or a woman?man\n",
      "dataset\\men\\ab8d93a0-cf51-46ec-951d-3f4b36e67b5b saved.\n"
     ]
    }
   ],
   "source": [
    "def askGender():\n",
    "    \"\"\"\n",
    "        :return: returns the folder path based on the input\n",
    "    \"\"\"\n",
    "    gender = str(input('Is it a man or a woman?'))\n",
    "    if gender.lower() == 'man':\n",
    "        return men_dir\n",
    "    elif gender.lower() == 'woman':\n",
    "        return women_dir\n",
    "    else:\n",
    "        print('You can choose only between \"man\" and \"woman\".')\n",
    "        return askGender()\n",
    "\n",
    "filename = os.path.join(askGender(), str(uuid.uuid4()))\n",
    "np.save(filename, fvoice)\n",
    "print(filename, 'saved.')"
   ]
  },
  {
   "cell_type": "markdown",
   "metadata": {},
   "source": [
    "## License\n",
    "<a rel=\"license\" href=\"http://creativecommons.org/licenses/by/4.0/\">\n",
    "    <img alt=\"Creative Commons Licence\" style=\"border-width:0; float:left; margin-right: 10px\" src=\"https://i.creativecommons.org/l/by/4.0/80x15.png\" />\n",
    "</a>\n",
    "This work is licensed under a <a rel=\"license\" href=\"http://creativecommons.org/licenses/by/4.0/\">Creative Commons Attribution 4.0 International License</a>."
   ]
  }
 ],
 "metadata": {
  "kernelspec": {
   "display_name": "Python 3",
   "language": "python",
   "name": "python3"
  },
  "language_info": {
   "codemirror_mode": {
    "name": "ipython",
    "version": 3
   },
   "file_extension": ".py",
   "mimetype": "text/x-python",
   "name": "python",
   "nbconvert_exporter": "python",
   "pygments_lexer": "ipython3",
   "version": "3.7.0"
  }
 },
 "nbformat": 4,
 "nbformat_minor": 2
}
