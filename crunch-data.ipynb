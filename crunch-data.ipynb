{
 "cells": [
  {
   "cell_type": "markdown",
   "metadata": {},
   "source": [
    "# Crunch Data"
   ]
  },
  {
   "cell_type": "markdown",
   "metadata": {},
   "source": [
    "## Import modules\n",
    "First of all, we need to import some modules and define some constants [previously explained](data-collection.ipynb):"
   ]
  },
  {
   "cell_type": "code",
   "execution_count": 1,
   "metadata": {},
   "outputs": [],
   "source": [
    "import os\n",
    "import numpy as np\n",
    "import matplotlib.pyplot as plt\n",
    "import sounddevice as sd\n",
    "from sklearn import preprocessing\n",
    "from sklearn.neighbors import KNeighborsClassifier\n",
    "from sklearn.model_selection import train_test_split"
   ]
  },
  {
   "cell_type": "code",
   "execution_count": 2,
   "metadata": {},
   "outputs": [],
   "source": [
    "audio_duration = 1.0\n",
    "sd.default.samplerate = 8000\n",
    "\n",
    "dataset_dir = 'dataset'\n",
    "men_dir = os.path.join(dataset_dir, 'men')\n",
    "women_dir = os.path.join(dataset_dir, 'women')"
   ]
  },
  {
   "cell_type": "markdown",
   "metadata": {},
   "source": [
    "## Loading data\n",
    "In order to avoid imbalanced data, we check that the number of male samples is roughly the same as the number of female labels. The reason is that not balanced datasets can lead to the [Accuracy paradox](https://en.wikipedia.org/wiki/Accuracy_paradox)."
   ]
  },
  {
   "cell_type": "code",
   "execution_count": 3,
   "metadata": {},
   "outputs": [],
   "source": [
    "def file_list(path):\n",
    "    return [os.path.join(path, filename) for filename in os.listdir(path)]"
   ]
  },
  {
   "cell_type": "code",
   "execution_count": 4,
   "metadata": {},
   "outputs": [
    {
     "name": "stdout",
     "output_type": "stream",
     "text": [
      "Number of men samples: 28\n",
      "Number of women samples: 27\n"
     ]
    }
   ],
   "source": [
    "men_files, women_files = file_list(men_dir), file_list(women_dir)\n",
    "n_men, n_women = len(men_files), len(women_files)\n",
    "\n",
    "print('Number of men samples:', n_men)\n",
    "print('Number of women samples:', n_women)"
   ]
  },
  {
   "cell_type": "code",
   "execution_count": 5,
   "metadata": {},
   "outputs": [],
   "source": [
    "def load_from_disk(files):\n",
    "    samples = [np.load(file) for file in files]\n",
    "    return np.stack(samples, axis=0)"
   ]
  },
  {
   "cell_type": "code",
   "execution_count": 6,
   "metadata": {},
   "outputs": [],
   "source": [
    "men_samples = load_from_disk(men_files)\n",
    "women_samples = load_from_disk(women_files)"
   ]
  },
  {
   "cell_type": "markdown",
   "metadata": {},
   "source": [
    "## Data preparation"
   ]
  },
  {
   "cell_type": "markdown",
   "metadata": {},
   "source": [
    "In this phase, we calculate the values of the features.\n",
    "\n",
    "To better understand what's going on, I decided to plot/print the first result every time there is an operation over every element in a list."
   ]
  },
  {
   "cell_type": "markdown",
   "metadata": {},
   "source": [
    "### Fourier transform\n",
    "For every sample, we calculate its Fourier transform. In particular:\n",
    "* we consider the absolute value of the intensity since we only want to know how much it contributes to the overall;\n",
    "* we analyze only the [0, 280Hz] range, which [should contain](https://en.wikipedia.org/wiki/Voice_frequency#Fundamental_frequency) the fundamental frequency.\n",
    "We are doing it because the fundamental frequency is related to the pitch and the pitch is related to the gender of the person who is speaking;\n",
    "* we do a normalization over the intensities to bring all values into the range [0,1]. In this way, we make the sampled voice volume-agnostic. We preserve the scaling factor in order to use it as a feature in our future ML model."
   ]
  },
  {
   "cell_type": "code",
   "execution_count": 7,
   "metadata": {},
   "outputs": [],
   "source": [
    "freq_max = 280\n",
    "\n",
    "def get_freqs(voice):\n",
    "    spectrum = np.abs(np.fft.fft(voice).real)\n",
    "    freq_axis = np.fft.fftfreq(np.size(voice)) * sd.default.samplerate\n",
    "    freq_axis_res = freq_axis[1] - freq_axis[0]\n",
    "    \n",
    "    positive_spectrum = spectrum[0:np.size(spectrum)//2]\n",
    "    positive_axis = freq_axis[0:np.size(spectrum)//2]\n",
    "\n",
    "    voice_spectrum = positive_spectrum[0:int(freq_max/freq_axis_res)]\n",
    "    freq_axis = positive_axis[0:int(freq_max/freq_axis_res)]\n",
    "    \n",
    "    max_i = np.max(voice_spectrum)\n",
    "    spectrum_scaled = voice_spectrum / max_i\n",
    "    return freq_axis, spectrum_scaled, max_i\n",
    "\n",
    "def get_freqs_of_everyone(samples):\n",
    "    data = [get_freqs(sample) for sample in samples]\n",
    "    return np.stack(data, axis=0)"
   ]
  },
  {
   "cell_type": "code",
   "execution_count": 8,
   "metadata": {},
   "outputs": [
    {
     "data": {
      "image/png": "[encoded data removed]",
      "text/plain": [
       "<Figure size 432x288 with 1 Axes>"
      ]
     },
     "metadata": {
      "needs_background": "light"
     },
     "output_type": "display_data"
    }
   ],
   "source": [
    "men_fouriers = get_freqs_of_everyone(men_samples)\n",
    "women_fouriers = get_freqs_of_everyone(women_samples)\n",
    "\n",
    "plt.xlabel('Frequency (Hz)')\n",
    "plt.ylabel('Intensity')\n",
    "plt.title('Spectrum of a random man')\n",
    "plt.plot(men_fouriers[0][0], men_fouriers[0][1])\n",
    "plt.show()"
   ]
  },
  {
   "cell_type": "markdown",
   "metadata": {},
   "source": [
    "### Calculated features"
   ]
  },
  {
   "cell_type": "markdown",
   "metadata": {},
   "source": [
    "I chose a set of features to be fed to the ML model:\n",
    "* the **mean** of the frequencies (Hz), weighted by their intensity;\n",
    "* the **weighted variance** of the frequencies;\n",
    "* the **skewness**, which measures how the distribution of data is asymmetric compared to the mean;\n",
    "* the **kurtosis** a.k.a the peakedness;\n",
    "* the **scaling factor** used in normalization."
   ]
  },
  {
   "cell_type": "code",
   "execution_count": 9,
   "metadata": {},
   "outputs": [],
   "source": [
    "def get_features(frequencies, intensities):\n",
    "    mean = np.average(frequencies, weights=intensities)\n",
    "    std = np.sqrt(np.average((frequencies-mean)**2, weights=intensities))\n",
    "    skewness = np.average(np.power(frequencies - mean, 3), weights=intensities) / np.power(std, 3)\n",
    "    kurtosis = np.average(np.power(frequencies - mean, 4), weights=intensities) / np.power(std, 4)\n",
    "    \n",
    "    return np.array([mean, std, skewness, kurtosis])\n",
    "\n",
    "def get_features_of_everyone(samples):\n",
    "    data = [np.append(get_features(sample[0],sample[1]), sample[2]) \n",
    "            for sample in samples]\n",
    "    return np.stack(data, axis=0)"
   ]
  },
  {
   "cell_type": "code",
   "execution_count": 10,
   "metadata": {},
   "outputs": [
    {
     "name": "stdout",
     "output_type": "stream",
     "text": [
      "Random man features: [193.88269496  69.77810573  -0.31274951   1.76483263  99.90809606]\n"
     ]
    }
   ],
   "source": [
    "men_features = get_features_of_everyone(men_fouriers)\n",
    "women_features = get_features_of_everyone(women_fouriers)\n",
    "\n",
    "print('Random man features:', men_features[0])"
   ]
  },
  {
   "cell_type": "markdown",
   "metadata": {},
   "source": [
    "### Training and classification"
   ]
  },
  {
   "cell_type": "markdown",
   "metadata": {},
   "source": [
    "Given the features values, we are going to train a ML model (KNN) with this data.\n",
    "\n",
    "Before dealing with all the features, feature scaling it's applied. This is required to have a better accuracy, since we use the Euclidean distance in the KNN algorithm."
   ]
  },
  {
   "cell_type": "code",
   "execution_count": 29,
   "metadata": {},
   "outputs": [],
   "source": [
    "X = np.append(men_features, women_features, axis=0)\n",
    "y = np.append(np.ones(np.shape(men_features)[0]), -1 * np.ones(np.shape(women_features)[0]))\n",
    "\n",
    "X_train, X_test, y_train, y_test = train_test_split(X, y, test_size=0.30, random_state=4)\n",
    "\n",
    "# Data normalization\n",
    "std_scale = preprocessing.StandardScaler().fit(X_train)\n",
    "X_train_std = std_scale.transform(X_train)\n",
    "X_test_std  = std_scale.transform(X_test)"
   ]
  },
  {
   "cell_type": "markdown",
   "metadata": {},
   "source": [
    "Since we don't have enough data to have a validation dataset in order to tune the hyperparameter, we'll choose it manually:\n",
    "* `k` must be small since the dataset is small and we may end up having a high bias;\n",
    "* `k` must be even to avoid predictions equals to zero;\n",
    "* choosing `k=1` it's a bad idea since it may lead to overfitting."
   ]
  },
  {
   "cell_type": "markdown",
   "metadata": {},
   "source": [
    "Last but not least, we calculate the accuracy of the model on the test set:"
   ]
  },
  {
   "cell_type": "code",
   "execution_count": 27,
   "metadata": {},
   "outputs": [
    {
     "name": "stdout",
     "output_type": "stream",
     "text": [
      "Accuracy:  88.23529411764706 %\n"
     ]
    }
   ],
   "source": [
    "knn = KNeighborsClassifier(n_neighbors=3)\n",
    "knn.fit(X_train_std, y_train)\n",
    "y_pred = knn.predict(X_test_std)\n",
    "\n",
    "accuracy = np.sum(np.sign(y_pred) == y_test) / np.size(y_test) * 100\n",
    "print('Accuracy: ', accuracy, '%')"
   ]
  },
  {
   "cell_type": "markdown",
   "metadata": {},
   "source": [
    "## License\n",
    "<a rel=\"license\" href=\"http://creativecommons.org/licenses/by/4.0/\">\n",
    "    <img alt=\"Creative Commons Licence\" style=\"border-width:0; float:left; margin-right: 10px\" src=\"https://i.creativecommons.org/l/by/4.0/80x15.png\" />\n",
    "</a>\n",
    "This work is licensed under a <a rel=\"license\" href=\"http://creativecommons.org/licenses/by/4.0/\">Creative Commons Attribution 4.0 International License</a>."
   ]
  }
 ],
 "metadata": {
  "kernelspec": {
   "display_name": "Python 3",
   "language": "python",
   "name": "python3"
  },
  "language_info": {
   "codemirror_mode": {
    "name": "ipython",
    "version": 3
   },
   "file_extension": ".py",
   "mimetype": "text/x-python",
   "name": "python",
   "nbconvert_exporter": "python",
   "pygments_lexer": "ipython3",
   "version": "3.7.0"
  }
 },
 "nbformat": 4,
 "nbformat_minor": 2
}
