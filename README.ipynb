{
 "cells": [
  {
   "cell_type": "markdown",
   "metadata": {},
   "source": [
    "# Gender recognition by voice\n",
    "\n",
    "Even if gender recognition by voice is a trivial task for humans, it's not for machines.\n",
    "Through this project, I'll propose a method to classify male/female voices through DSP and basic ML techniques.\n",
    "\n",
    "The project can be split into four phases:\n",
    "1. data collection;\n",
    "2. data preparation;\n",
    "3. training;\n",
    "4. classification.\n",
    "\n",
    "The first phase is covered on the [Data collection Notebook](data-collection.ipynb), while the others are in the [Crunch data Notebook](crunch-data.ipynb)."
   ]
  },
  {
   "cell_type": "markdown",
   "metadata": {},
   "source": [
    "## Requirements\n",
    "In order to execute this project in your machine, you need some libraries:"
   ]
  },
  {
   "cell_type": "code",
   "execution_count": null,
   "metadata": {},
   "outputs": [],
   "source": [
    "!conda install -c conda-forge python-sounddevice\n",
    "!pip install plotly"
   ]
  },
  {
   "cell_type": "markdown",
   "metadata": {},
   "source": [
    "## License\n",
    "<a rel=\"license\" href=\"http://creativecommons.org/licenses/by/4.0/\">\n",
    "    <img alt=\"Creative Commons Licence\" style=\"border-width:0; float:left; margin-right: 10px\" src=\"https://i.creativecommons.org/l/by/4.0/80x15.png\" />\n",
    "</a>\n",
    "This work is licensed under a <a rel=\"license\" href=\"http://creativecommons.org/licenses/by/4.0/\">Creative Commons Attribution 4.0 International License</a>."
   ]
  }
 ],
 "metadata": {
  "kernelspec": {
   "display_name": "Python 3",
   "language": "python",
   "name": "python3"
  },
  "language_info": {
   "codemirror_mode": {
    "name": "ipython",
    "version": 3
   },
   "file_extension": ".py",
   "mimetype": "text/x-python",
   "name": "python",
   "nbconvert_exporter": "python",
   "pygments_lexer": "ipython3",
   "version": "3.7.0"
  }
 },
 "nbformat": 4,
 "nbformat_minor": 2
}
